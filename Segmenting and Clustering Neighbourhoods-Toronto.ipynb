{
    "cells": [
        {
            "metadata": {},
            "cell_type": "code",
            "source": "import pandas as pd\nimport numpy as np\nimport matplotlib.pyplot as plt\n",
            "execution_count": 157,
            "outputs": []
        },
        {
            "metadata": {},
            "cell_type": "code",
            "source": " pip install beautifulsoup4 ",
            "execution_count": 158,
            "outputs": [
                {
                    "output_type": "stream",
                    "text": "Requirement already satisfied: beautifulsoup4 in /opt/conda/envs/Python-3.7-main/lib/python3.7/site-packages (4.9.1)\nRequirement already satisfied: soupsieve>1.2 in /opt/conda/envs/Python-3.7-main/lib/python3.7/site-packages (from beautifulsoup4) (2.0.1)\nNote: you may need to restart the kernel to use updated packages.\n",
                    "name": "stdout"
                }
            ]
        },
        {
            "metadata": {},
            "cell_type": "code",
            "source": "import requests \nimport urllib.request",
            "execution_count": 159,
            "outputs": []
        },
        {
            "metadata": {},
            "cell_type": "code",
            "source": "url = \"https://en.wikipedia.org/wiki/List_of_postal_codes_of_Canada:_M\"",
            "execution_count": 160,
            "outputs": []
        },
        {
            "metadata": {},
            "cell_type": "code",
            "source": "page = urllib.request.urlopen(url)\n",
            "execution_count": 161,
            "outputs": []
        },
        {
            "metadata": {},
            "cell_type": "code",
            "source": "from bs4 import BeautifulSoup\nsoup = BeautifulSoup(page, \"lxml\")",
            "execution_count": 162,
            "outputs": []
        },
        {
            "metadata": {},
            "cell_type": "code",
            "source": "all_tables=soup.find_all(\"table\")",
            "execution_count": 163,
            "outputs": []
        },
        {
            "metadata": {},
            "cell_type": "code",
            "source": "right_table = soup.find('table', {\"class\":'wikitable sortable'})",
            "execution_count": 164,
            "outputs": []
        },
        {
            "metadata": {},
            "cell_type": "code",
            "source": "A=[]\nB=[]\nC=[]\n\n\nfor row in right_table.findAll('tr'):\n    cells=row.findAll('td')\n    if len(cells)==3:\n        A.append(cells[0].find(text=True))\n        B.append(cells[1].find(text=True))\n        C.append(cells[2].find(text=True))\n        \n        \n",
            "execution_count": 165,
            "outputs": []
        },
        {
            "metadata": {},
            "cell_type": "code",
            "source": "\ndf=pd.DataFrame(A,columns=['Postal Code'])\ndf['Borough']=B\ndf['Neighbourhood']=C\ndf",
            "execution_count": 186,
            "outputs": [
                {
                    "output_type": "execute_result",
                    "execution_count": 186,
                    "data": {
                        "text/plain": "    Postal Code             Borough  \\\n0         M1A\\n      Not assigned\\n   \n1         M2A\\n      Not assigned\\n   \n2         M3A\\n        North York\\n   \n3         M4A\\n        North York\\n   \n4         M5A\\n  Downtown Toronto\\n   \n..          ...                 ...   \n175       M5Z\\n      Not assigned\\n   \n176       M6Z\\n      Not assigned\\n   \n177       M7Z\\n      Not assigned\\n   \n178       M8Z\\n         Etobicoke\\n   \n179       M9Z\\n      Not assigned\\n   \n\n                                         Neighbourhood  \n0                                       Not assigned\\n  \n1                                       Not assigned\\n  \n2                                          Parkwoods\\n  \n3                                   Victoria Village\\n  \n4                          Regent Park, Harbourfront\\n  \n..                                                 ...  \n175                                     Not assigned\\n  \n176                                     Not assigned\\n  \n177                                     Not assigned\\n  \n178  Mimico NW, The Queensway West, South of Bloor,...  \n179                                     Not assigned\\n  \n\n[180 rows x 3 columns]",
                        "text/html": "<div>\n<style scoped>\n    .dataframe tbody tr th:only-of-type {\n        vertical-align: middle;\n    }\n\n    .dataframe tbody tr th {\n        vertical-align: top;\n    }\n\n    .dataframe thead th {\n        text-align: right;\n    }\n</style>\n<table border=\"1\" class=\"dataframe\">\n  <thead>\n    <tr style=\"text-align: right;\">\n      <th></th>\n      <th>Postal Code</th>\n      <th>Borough</th>\n      <th>Neighbourhood</th>\n    </tr>\n  </thead>\n  <tbody>\n    <tr>\n      <th>0</th>\n      <td>M1A\\n</td>\n      <td>Not assigned\\n</td>\n      <td>Not assigned\\n</td>\n    </tr>\n    <tr>\n      <th>1</th>\n      <td>M2A\\n</td>\n      <td>Not assigned\\n</td>\n      <td>Not assigned\\n</td>\n    </tr>\n    <tr>\n      <th>2</th>\n      <td>M3A\\n</td>\n      <td>North York\\n</td>\n      <td>Parkwoods\\n</td>\n    </tr>\n    <tr>\n      <th>3</th>\n      <td>M4A\\n</td>\n      <td>North York\\n</td>\n      <td>Victoria Village\\n</td>\n    </tr>\n    <tr>\n      <th>4</th>\n      <td>M5A\\n</td>\n      <td>Downtown Toronto\\n</td>\n      <td>Regent Park, Harbourfront\\n</td>\n    </tr>\n    <tr>\n      <th>...</th>\n      <td>...</td>\n      <td>...</td>\n      <td>...</td>\n    </tr>\n    <tr>\n      <th>175</th>\n      <td>M5Z\\n</td>\n      <td>Not assigned\\n</td>\n      <td>Not assigned\\n</td>\n    </tr>\n    <tr>\n      <th>176</th>\n      <td>M6Z\\n</td>\n      <td>Not assigned\\n</td>\n      <td>Not assigned\\n</td>\n    </tr>\n    <tr>\n      <th>177</th>\n      <td>M7Z\\n</td>\n      <td>Not assigned\\n</td>\n      <td>Not assigned\\n</td>\n    </tr>\n    <tr>\n      <th>178</th>\n      <td>M8Z\\n</td>\n      <td>Etobicoke\\n</td>\n      <td>Mimico NW, The Queensway West, South of Bloor,...</td>\n    </tr>\n    <tr>\n      <th>179</th>\n      <td>M9Z\\n</td>\n      <td>Not assigned\\n</td>\n      <td>Not assigned\\n</td>\n    </tr>\n  </tbody>\n</table>\n<p>180 rows \u00d7 3 columns</p>\n</div>"
                    },
                    "metadata": {}
                }
            ]
        },
        {
            "metadata": {},
            "cell_type": "code",
            "source": "#removing \\n from the table\n\n\ndf.replace(r'\\s','',regex = True, inplace = True)\ndf\n",
            "execution_count": 187,
            "outputs": [
                {
                    "output_type": "execute_result",
                    "execution_count": 187,
                    "data": {
                        "text/plain": "    Postal Code          Borough  \\\n0           M1A      Notassigned   \n1           M2A      Notassigned   \n2           M3A        NorthYork   \n3           M4A        NorthYork   \n4           M5A  DowntownToronto   \n..          ...              ...   \n175         M5Z      Notassigned   \n176         M6Z      Notassigned   \n177         M7Z      Notassigned   \n178         M8Z        Etobicoke   \n179         M9Z      Notassigned   \n\n                                         Neighbourhood  \n0                                          Notassigned  \n1                                          Notassigned  \n2                                            Parkwoods  \n3                                      VictoriaVillage  \n4                              RegentPark,Harbourfront  \n..                                                 ...  \n175                                        Notassigned  \n176                                        Notassigned  \n177                                        Notassigned  \n178  MimicoNW,TheQueenswayWest,SouthofBloor,Kingswa...  \n179                                        Notassigned  \n\n[180 rows x 3 columns]",
                        "text/html": "<div>\n<style scoped>\n    .dataframe tbody tr th:only-of-type {\n        vertical-align: middle;\n    }\n\n    .dataframe tbody tr th {\n        vertical-align: top;\n    }\n\n    .dataframe thead th {\n        text-align: right;\n    }\n</style>\n<table border=\"1\" class=\"dataframe\">\n  <thead>\n    <tr style=\"text-align: right;\">\n      <th></th>\n      <th>Postal Code</th>\n      <th>Borough</th>\n      <th>Neighbourhood</th>\n    </tr>\n  </thead>\n  <tbody>\n    <tr>\n      <th>0</th>\n      <td>M1A</td>\n      <td>Notassigned</td>\n      <td>Notassigned</td>\n    </tr>\n    <tr>\n      <th>1</th>\n      <td>M2A</td>\n      <td>Notassigned</td>\n      <td>Notassigned</td>\n    </tr>\n    <tr>\n      <th>2</th>\n      <td>M3A</td>\n      <td>NorthYork</td>\n      <td>Parkwoods</td>\n    </tr>\n    <tr>\n      <th>3</th>\n      <td>M4A</td>\n      <td>NorthYork</td>\n      <td>VictoriaVillage</td>\n    </tr>\n    <tr>\n      <th>4</th>\n      <td>M5A</td>\n      <td>DowntownToronto</td>\n      <td>RegentPark,Harbourfront</td>\n    </tr>\n    <tr>\n      <th>...</th>\n      <td>...</td>\n      <td>...</td>\n      <td>...</td>\n    </tr>\n    <tr>\n      <th>175</th>\n      <td>M5Z</td>\n      <td>Notassigned</td>\n      <td>Notassigned</td>\n    </tr>\n    <tr>\n      <th>176</th>\n      <td>M6Z</td>\n      <td>Notassigned</td>\n      <td>Notassigned</td>\n    </tr>\n    <tr>\n      <th>177</th>\n      <td>M7Z</td>\n      <td>Notassigned</td>\n      <td>Notassigned</td>\n    </tr>\n    <tr>\n      <th>178</th>\n      <td>M8Z</td>\n      <td>Etobicoke</td>\n      <td>MimicoNW,TheQueenswayWest,SouthofBloor,Kingswa...</td>\n    </tr>\n    <tr>\n      <th>179</th>\n      <td>M9Z</td>\n      <td>Notassigned</td>\n      <td>Notassigned</td>\n    </tr>\n  </tbody>\n</table>\n<p>180 rows \u00d7 3 columns</p>\n</div>"
                    },
                    "metadata": {}
                }
            ]
        },
        {
            "metadata": {},
            "cell_type": "code",
            "source": "# removing unassigned boroughs\n\ndf = df[df.Borough !='Notassigned']\ndf\n\n\n\n\n",
            "execution_count": 188,
            "outputs": [
                {
                    "output_type": "execute_result",
                    "execution_count": 188,
                    "data": {
                        "text/plain": "    Postal Code          Borough  \\\n2           M3A        NorthYork   \n3           M4A        NorthYork   \n4           M5A  DowntownToronto   \n5           M6A        NorthYork   \n6           M7A  DowntownToronto   \n..          ...              ...   \n160         M8X        Etobicoke   \n165         M4Y  DowntownToronto   \n168         M7Y      EastToronto   \n169         M8Y        Etobicoke   \n178         M8Z        Etobicoke   \n\n                                         Neighbourhood  \n2                                            Parkwoods  \n3                                      VictoriaVillage  \n4                              RegentPark,Harbourfront  \n5                        LawrenceManor,LawrenceHeights  \n6              Queen'sPark,OntarioProvincialGovernment  \n..                                                 ...  \n160            TheKingsway,MontgomeryRoad,OldMillNorth  \n165                                 ChurchandWellesley  \n168  BusinessreplymailProcessingCentre,SouthCentral...  \n169  OldMillSouth,King'sMillPark,Sunnylea,HumberBay...  \n178  MimicoNW,TheQueenswayWest,SouthofBloor,Kingswa...  \n\n[103 rows x 3 columns]",
                        "text/html": "<div>\n<style scoped>\n    .dataframe tbody tr th:only-of-type {\n        vertical-align: middle;\n    }\n\n    .dataframe tbody tr th {\n        vertical-align: top;\n    }\n\n    .dataframe thead th {\n        text-align: right;\n    }\n</style>\n<table border=\"1\" class=\"dataframe\">\n  <thead>\n    <tr style=\"text-align: right;\">\n      <th></th>\n      <th>Postal Code</th>\n      <th>Borough</th>\n      <th>Neighbourhood</th>\n    </tr>\n  </thead>\n  <tbody>\n    <tr>\n      <th>2</th>\n      <td>M3A</td>\n      <td>NorthYork</td>\n      <td>Parkwoods</td>\n    </tr>\n    <tr>\n      <th>3</th>\n      <td>M4A</td>\n      <td>NorthYork</td>\n      <td>VictoriaVillage</td>\n    </tr>\n    <tr>\n      <th>4</th>\n      <td>M5A</td>\n      <td>DowntownToronto</td>\n      <td>RegentPark,Harbourfront</td>\n    </tr>\n    <tr>\n      <th>5</th>\n      <td>M6A</td>\n      <td>NorthYork</td>\n      <td>LawrenceManor,LawrenceHeights</td>\n    </tr>\n    <tr>\n      <th>6</th>\n      <td>M7A</td>\n      <td>DowntownToronto</td>\n      <td>Queen'sPark,OntarioProvincialGovernment</td>\n    </tr>\n    <tr>\n      <th>...</th>\n      <td>...</td>\n      <td>...</td>\n      <td>...</td>\n    </tr>\n    <tr>\n      <th>160</th>\n      <td>M8X</td>\n      <td>Etobicoke</td>\n      <td>TheKingsway,MontgomeryRoad,OldMillNorth</td>\n    </tr>\n    <tr>\n      <th>165</th>\n      <td>M4Y</td>\n      <td>DowntownToronto</td>\n      <td>ChurchandWellesley</td>\n    </tr>\n    <tr>\n      <th>168</th>\n      <td>M7Y</td>\n      <td>EastToronto</td>\n      <td>BusinessreplymailProcessingCentre,SouthCentral...</td>\n    </tr>\n    <tr>\n      <th>169</th>\n      <td>M8Y</td>\n      <td>Etobicoke</td>\n      <td>OldMillSouth,King'sMillPark,Sunnylea,HumberBay...</td>\n    </tr>\n    <tr>\n      <th>178</th>\n      <td>M8Z</td>\n      <td>Etobicoke</td>\n      <td>MimicoNW,TheQueenswayWest,SouthofBloor,Kingswa...</td>\n    </tr>\n  </tbody>\n</table>\n<p>103 rows \u00d7 3 columns</p>\n</div>"
                    },
                    "metadata": {}
                }
            ]
        },
        {
            "metadata": {},
            "cell_type": "code",
            "source": "#combining rows with same postal code\n\ndf.groupby('Postal Code', as_index=False).agg({'Borough': 'first','Neighbourhood' : ' '.join})",
            "execution_count": 189,
            "outputs": [
                {
                    "output_type": "execute_result",
                    "execution_count": 189,
                    "data": {
                        "text/plain": "    Postal Code      Borough  \\\n0           M1B  Scarborough   \n1           M1C  Scarborough   \n2           M1E  Scarborough   \n3           M1G  Scarborough   \n4           M1H  Scarborough   \n..          ...          ...   \n98          M9N         York   \n99          M9P    Etobicoke   \n100         M9R    Etobicoke   \n101         M9V    Etobicoke   \n102         M9W    Etobicoke   \n\n                                         Neighbourhood  \n0                                        Malvern,Rouge  \n1                    RougeHill,PortUnion,HighlandCreek  \n2                       Guildwood,Morningside,WestHill  \n3                                               Woburn  \n4                                            Cedarbrae  \n..                                                 ...  \n98                                              Weston  \n99                                           Westmount  \n100  KingsviewVillage,St.Phillips,MartinGroveGarden...  \n101  SouthSteeles,Silverstone,Humbergate,Jamestown,...  \n102                    Northwest,WestHumber-Clairville  \n\n[103 rows x 3 columns]",
                        "text/html": "<div>\n<style scoped>\n    .dataframe tbody tr th:only-of-type {\n        vertical-align: middle;\n    }\n\n    .dataframe tbody tr th {\n        vertical-align: top;\n    }\n\n    .dataframe thead th {\n        text-align: right;\n    }\n</style>\n<table border=\"1\" class=\"dataframe\">\n  <thead>\n    <tr style=\"text-align: right;\">\n      <th></th>\n      <th>Postal Code</th>\n      <th>Borough</th>\n      <th>Neighbourhood</th>\n    </tr>\n  </thead>\n  <tbody>\n    <tr>\n      <th>0</th>\n      <td>M1B</td>\n      <td>Scarborough</td>\n      <td>Malvern,Rouge</td>\n    </tr>\n    <tr>\n      <th>1</th>\n      <td>M1C</td>\n      <td>Scarborough</td>\n      <td>RougeHill,PortUnion,HighlandCreek</td>\n    </tr>\n    <tr>\n      <th>2</th>\n      <td>M1E</td>\n      <td>Scarborough</td>\n      <td>Guildwood,Morningside,WestHill</td>\n    </tr>\n    <tr>\n      <th>3</th>\n      <td>M1G</td>\n      <td>Scarborough</td>\n      <td>Woburn</td>\n    </tr>\n    <tr>\n      <th>4</th>\n      <td>M1H</td>\n      <td>Scarborough</td>\n      <td>Cedarbrae</td>\n    </tr>\n    <tr>\n      <th>...</th>\n      <td>...</td>\n      <td>...</td>\n      <td>...</td>\n    </tr>\n    <tr>\n      <th>98</th>\n      <td>M9N</td>\n      <td>York</td>\n      <td>Weston</td>\n    </tr>\n    <tr>\n      <th>99</th>\n      <td>M9P</td>\n      <td>Etobicoke</td>\n      <td>Westmount</td>\n    </tr>\n    <tr>\n      <th>100</th>\n      <td>M9R</td>\n      <td>Etobicoke</td>\n      <td>KingsviewVillage,St.Phillips,MartinGroveGarden...</td>\n    </tr>\n    <tr>\n      <th>101</th>\n      <td>M9V</td>\n      <td>Etobicoke</td>\n      <td>SouthSteeles,Silverstone,Humbergate,Jamestown,...</td>\n    </tr>\n    <tr>\n      <th>102</th>\n      <td>M9W</td>\n      <td>Etobicoke</td>\n      <td>Northwest,WestHumber-Clairville</td>\n    </tr>\n  </tbody>\n</table>\n<p>103 rows \u00d7 3 columns</p>\n</div>"
                    },
                    "metadata": {}
                }
            ]
        },
        {
            "metadata": {},
            "cell_type": "code",
            "source": "# assigning not assigned Neighbourhoods as Boroughs\n\ndf.loc[df.Neighbourhood == \"Notassigned\", \"Borough\"]\ndf",
            "execution_count": 190,
            "outputs": [
                {
                    "output_type": "execute_result",
                    "execution_count": 190,
                    "data": {
                        "text/plain": "    Postal Code          Borough  \\\n2           M3A        NorthYork   \n3           M4A        NorthYork   \n4           M5A  DowntownToronto   \n5           M6A        NorthYork   \n6           M7A  DowntownToronto   \n..          ...              ...   \n160         M8X        Etobicoke   \n165         M4Y  DowntownToronto   \n168         M7Y      EastToronto   \n169         M8Y        Etobicoke   \n178         M8Z        Etobicoke   \n\n                                         Neighbourhood  \n2                                            Parkwoods  \n3                                      VictoriaVillage  \n4                              RegentPark,Harbourfront  \n5                        LawrenceManor,LawrenceHeights  \n6              Queen'sPark,OntarioProvincialGovernment  \n..                                                 ...  \n160            TheKingsway,MontgomeryRoad,OldMillNorth  \n165                                 ChurchandWellesley  \n168  BusinessreplymailProcessingCentre,SouthCentral...  \n169  OldMillSouth,King'sMillPark,Sunnylea,HumberBay...  \n178  MimicoNW,TheQueenswayWest,SouthofBloor,Kingswa...  \n\n[103 rows x 3 columns]",
                        "text/html": "<div>\n<style scoped>\n    .dataframe tbody tr th:only-of-type {\n        vertical-align: middle;\n    }\n\n    .dataframe tbody tr th {\n        vertical-align: top;\n    }\n\n    .dataframe thead th {\n        text-align: right;\n    }\n</style>\n<table border=\"1\" class=\"dataframe\">\n  <thead>\n    <tr style=\"text-align: right;\">\n      <th></th>\n      <th>Postal Code</th>\n      <th>Borough</th>\n      <th>Neighbourhood</th>\n    </tr>\n  </thead>\n  <tbody>\n    <tr>\n      <th>2</th>\n      <td>M3A</td>\n      <td>NorthYork</td>\n      <td>Parkwoods</td>\n    </tr>\n    <tr>\n      <th>3</th>\n      <td>M4A</td>\n      <td>NorthYork</td>\n      <td>VictoriaVillage</td>\n    </tr>\n    <tr>\n      <th>4</th>\n      <td>M5A</td>\n      <td>DowntownToronto</td>\n      <td>RegentPark,Harbourfront</td>\n    </tr>\n    <tr>\n      <th>5</th>\n      <td>M6A</td>\n      <td>NorthYork</td>\n      <td>LawrenceManor,LawrenceHeights</td>\n    </tr>\n    <tr>\n      <th>6</th>\n      <td>M7A</td>\n      <td>DowntownToronto</td>\n      <td>Queen'sPark,OntarioProvincialGovernment</td>\n    </tr>\n    <tr>\n      <th>...</th>\n      <td>...</td>\n      <td>...</td>\n      <td>...</td>\n    </tr>\n    <tr>\n      <th>160</th>\n      <td>M8X</td>\n      <td>Etobicoke</td>\n      <td>TheKingsway,MontgomeryRoad,OldMillNorth</td>\n    </tr>\n    <tr>\n      <th>165</th>\n      <td>M4Y</td>\n      <td>DowntownToronto</td>\n      <td>ChurchandWellesley</td>\n    </tr>\n    <tr>\n      <th>168</th>\n      <td>M7Y</td>\n      <td>EastToronto</td>\n      <td>BusinessreplymailProcessingCentre,SouthCentral...</td>\n    </tr>\n    <tr>\n      <th>169</th>\n      <td>M8Y</td>\n      <td>Etobicoke</td>\n      <td>OldMillSouth,King'sMillPark,Sunnylea,HumberBay...</td>\n    </tr>\n    <tr>\n      <th>178</th>\n      <td>M8Z</td>\n      <td>Etobicoke</td>\n      <td>MimicoNW,TheQueenswayWest,SouthofBloor,Kingswa...</td>\n    </tr>\n  </tbody>\n</table>\n<p>103 rows \u00d7 3 columns</p>\n</div>"
                    },
                    "metadata": {}
                }
            ]
        },
        {
            "metadata": {},
            "cell_type": "code",
            "source": "# number of rows in the dataframe\n\ndf.shape",
            "execution_count": 191,
            "outputs": [
                {
                    "output_type": "execute_result",
                    "execution_count": 191,
                    "data": {
                        "text/plain": "(103, 3)"
                    },
                    "metadata": {}
                }
            ]
        },
        {
            "metadata": {},
            "cell_type": "code",
            "source": "df1 = pd.read_csv('http://cocl.us/Geospatial_data')\n\ndf1\n",
            "execution_count": 192,
            "outputs": [
                {
                    "output_type": "execute_result",
                    "execution_count": 192,
                    "data": {
                        "text/plain": "    Postal Code   Latitude  Longitude\n0           M1B  43.806686 -79.194353\n1           M1C  43.784535 -79.160497\n2           M1E  43.763573 -79.188711\n3           M1G  43.770992 -79.216917\n4           M1H  43.773136 -79.239476\n..          ...        ...        ...\n98          M9N  43.706876 -79.518188\n99          M9P  43.696319 -79.532242\n100         M9R  43.688905 -79.554724\n101         M9V  43.739416 -79.588437\n102         M9W  43.706748 -79.594054\n\n[103 rows x 3 columns]",
                        "text/html": "<div>\n<style scoped>\n    .dataframe tbody tr th:only-of-type {\n        vertical-align: middle;\n    }\n\n    .dataframe tbody tr th {\n        vertical-align: top;\n    }\n\n    .dataframe thead th {\n        text-align: right;\n    }\n</style>\n<table border=\"1\" class=\"dataframe\">\n  <thead>\n    <tr style=\"text-align: right;\">\n      <th></th>\n      <th>Postal Code</th>\n      <th>Latitude</th>\n      <th>Longitude</th>\n    </tr>\n  </thead>\n  <tbody>\n    <tr>\n      <th>0</th>\n      <td>M1B</td>\n      <td>43.806686</td>\n      <td>-79.194353</td>\n    </tr>\n    <tr>\n      <th>1</th>\n      <td>M1C</td>\n      <td>43.784535</td>\n      <td>-79.160497</td>\n    </tr>\n    <tr>\n      <th>2</th>\n      <td>M1E</td>\n      <td>43.763573</td>\n      <td>-79.188711</td>\n    </tr>\n    <tr>\n      <th>3</th>\n      <td>M1G</td>\n      <td>43.770992</td>\n      <td>-79.216917</td>\n    </tr>\n    <tr>\n      <th>4</th>\n      <td>M1H</td>\n      <td>43.773136</td>\n      <td>-79.239476</td>\n    </tr>\n    <tr>\n      <th>...</th>\n      <td>...</td>\n      <td>...</td>\n      <td>...</td>\n    </tr>\n    <tr>\n      <th>98</th>\n      <td>M9N</td>\n      <td>43.706876</td>\n      <td>-79.518188</td>\n    </tr>\n    <tr>\n      <th>99</th>\n      <td>M9P</td>\n      <td>43.696319</td>\n      <td>-79.532242</td>\n    </tr>\n    <tr>\n      <th>100</th>\n      <td>M9R</td>\n      <td>43.688905</td>\n      <td>-79.554724</td>\n    </tr>\n    <tr>\n      <th>101</th>\n      <td>M9V</td>\n      <td>43.739416</td>\n      <td>-79.588437</td>\n    </tr>\n    <tr>\n      <th>102</th>\n      <td>M9W</td>\n      <td>43.706748</td>\n      <td>-79.594054</td>\n    </tr>\n  </tbody>\n</table>\n<p>103 rows \u00d7 3 columns</p>\n</div>"
                    },
                    "metadata": {}
                }
            ]
        },
        {
            "metadata": {},
            "cell_type": "code",
            "source": "pd.merge(df,df1[['Postal Code','Latitude', 'Longitude']],\n                 on='Postal Code')",
            "execution_count": 193,
            "outputs": [
                {
                    "output_type": "execute_result",
                    "execution_count": 193,
                    "data": {
                        "text/plain": "    Postal Code          Borough  \\\n0           M3A        NorthYork   \n1           M4A        NorthYork   \n2           M5A  DowntownToronto   \n3           M6A        NorthYork   \n4           M7A  DowntownToronto   \n..          ...              ...   \n98          M8X        Etobicoke   \n99          M4Y  DowntownToronto   \n100         M7Y      EastToronto   \n101         M8Y        Etobicoke   \n102         M8Z        Etobicoke   \n\n                                         Neighbourhood   Latitude  Longitude  \n0                                            Parkwoods  43.753259 -79.329656  \n1                                      VictoriaVillage  43.725882 -79.315572  \n2                              RegentPark,Harbourfront  43.654260 -79.360636  \n3                        LawrenceManor,LawrenceHeights  43.718518 -79.464763  \n4              Queen'sPark,OntarioProvincialGovernment  43.662301 -79.389494  \n..                                                 ...        ...        ...  \n98             TheKingsway,MontgomeryRoad,OldMillNorth  43.653654 -79.506944  \n99                                  ChurchandWellesley  43.665860 -79.383160  \n100  BusinessreplymailProcessingCentre,SouthCentral...  43.662744 -79.321558  \n101  OldMillSouth,King'sMillPark,Sunnylea,HumberBay...  43.636258 -79.498509  \n102  MimicoNW,TheQueenswayWest,SouthofBloor,Kingswa...  43.628841 -79.520999  \n\n[103 rows x 5 columns]",
                        "text/html": "<div>\n<style scoped>\n    .dataframe tbody tr th:only-of-type {\n        vertical-align: middle;\n    }\n\n    .dataframe tbody tr th {\n        vertical-align: top;\n    }\n\n    .dataframe thead th {\n        text-align: right;\n    }\n</style>\n<table border=\"1\" class=\"dataframe\">\n  <thead>\n    <tr style=\"text-align: right;\">\n      <th></th>\n      <th>Postal Code</th>\n      <th>Borough</th>\n      <th>Neighbourhood</th>\n      <th>Latitude</th>\n      <th>Longitude</th>\n    </tr>\n  </thead>\n  <tbody>\n    <tr>\n      <th>0</th>\n      <td>M3A</td>\n      <td>NorthYork</td>\n      <td>Parkwoods</td>\n      <td>43.753259</td>\n      <td>-79.329656</td>\n    </tr>\n    <tr>\n      <th>1</th>\n      <td>M4A</td>\n      <td>NorthYork</td>\n      <td>VictoriaVillage</td>\n      <td>43.725882</td>\n      <td>-79.315572</td>\n    </tr>\n    <tr>\n      <th>2</th>\n      <td>M5A</td>\n      <td>DowntownToronto</td>\n      <td>RegentPark,Harbourfront</td>\n      <td>43.654260</td>\n      <td>-79.360636</td>\n    </tr>\n    <tr>\n      <th>3</th>\n      <td>M6A</td>\n      <td>NorthYork</td>\n      <td>LawrenceManor,LawrenceHeights</td>\n      <td>43.718518</td>\n      <td>-79.464763</td>\n    </tr>\n    <tr>\n      <th>4</th>\n      <td>M7A</td>\n      <td>DowntownToronto</td>\n      <td>Queen'sPark,OntarioProvincialGovernment</td>\n      <td>43.662301</td>\n      <td>-79.389494</td>\n    </tr>\n    <tr>\n      <th>...</th>\n      <td>...</td>\n      <td>...</td>\n      <td>...</td>\n      <td>...</td>\n      <td>...</td>\n    </tr>\n    <tr>\n      <th>98</th>\n      <td>M8X</td>\n      <td>Etobicoke</td>\n      <td>TheKingsway,MontgomeryRoad,OldMillNorth</td>\n      <td>43.653654</td>\n      <td>-79.506944</td>\n    </tr>\n    <tr>\n      <th>99</th>\n      <td>M4Y</td>\n      <td>DowntownToronto</td>\n      <td>ChurchandWellesley</td>\n      <td>43.665860</td>\n      <td>-79.383160</td>\n    </tr>\n    <tr>\n      <th>100</th>\n      <td>M7Y</td>\n      <td>EastToronto</td>\n      <td>BusinessreplymailProcessingCentre,SouthCentral...</td>\n      <td>43.662744</td>\n      <td>-79.321558</td>\n    </tr>\n    <tr>\n      <th>101</th>\n      <td>M8Y</td>\n      <td>Etobicoke</td>\n      <td>OldMillSouth,King'sMillPark,Sunnylea,HumberBay...</td>\n      <td>43.636258</td>\n      <td>-79.498509</td>\n    </tr>\n    <tr>\n      <th>102</th>\n      <td>M8Z</td>\n      <td>Etobicoke</td>\n      <td>MimicoNW,TheQueenswayWest,SouthofBloor,Kingswa...</td>\n      <td>43.628841</td>\n      <td>-79.520999</td>\n    </tr>\n  </tbody>\n</table>\n<p>103 rows \u00d7 5 columns</p>\n</div>"
                    },
                    "metadata": {}
                }
            ]
        },
        {
            "metadata": {},
            "cell_type": "code",
            "source": "",
            "execution_count": null,
            "outputs": []
        }
    ],
    "metadata": {
        "kernelspec": {
            "name": "python3",
            "display_name": "Python 3.7",
            "language": "python"
        },
        "language_info": {
            "name": "python",
            "version": "3.7.9",
            "mimetype": "text/x-python",
            "codemirror_mode": {
                "name": "ipython",
                "version": 3
            },
            "pygments_lexer": "ipython3",
            "nbconvert_exporter": "python",
            "file_extension": ".py"
        }
    },
    "nbformat": 4,
    "nbformat_minor": 1
}